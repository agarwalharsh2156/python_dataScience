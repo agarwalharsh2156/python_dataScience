{
  "nbformat": 4,
  "nbformat_minor": 0,
  "metadata": {
    "colab": {
      "provenance": [],
      "authorship_tag": "ABX9TyOJKenkmQUNjU2rAdjo77Aa",
      "include_colab_link": true
    },
    "kernelspec": {
      "name": "python3",
      "display_name": "Python 3"
    },
    "language_info": {
      "name": "python"
    }
  },
  "cells": [
    {
      "cell_type": "markdown",
      "metadata": {
        "id": "view-in-github",
        "colab_type": "text"
      },
      "source": [
        "<a href=\"https://colab.research.google.com/github/agarwalharsh2156/python_datascience/blob/main/self_practice.ipynb\" target=\"_parent\"><img src=\"https://colab.research.google.com/assets/colab-badge.svg\" alt=\"Open In Colab\"/></a>"
      ]
    },
    {
      "cell_type": "markdown",
      "source": [
        "**UNPACKING A TUPLE**\n",
        "\n",
        "---\n",
        "\n",
        "\n",
        "By using multiple variables you can unpack a tuple, but the number of elements in a tuple and number of variables should be equal."
      ],
      "metadata": {
        "id": "EEgA7PIKvMfv"
      }
    },
    {
      "cell_type": "code",
      "source": [
        "tuple = (1,2,3,4,5)\n",
        "a,b,c,d,e = tuple\n",
        "print(a, type(a))\n",
        "print(b, type(b))\n",
        "print(c, type(c))\n",
        "print(d, type(d))\n",
        "print(e, type(e))\n",
        "print(tuple, type(tuple))"
      ],
      "metadata": {
        "colab": {
          "base_uri": "https://localhost:8080/"
        },
        "id": "5lrZZrpCQQfB",
        "outputId": "ecd2596a-5b38-4df4-c681-2b0be7dea641"
      },
      "execution_count": 10,
      "outputs": [
        {
          "output_type": "stream",
          "name": "stdout",
          "text": [
            "1 <class 'int'>\n",
            "2 <class 'int'>\n",
            "3 <class 'int'>\n",
            "4 <class 'int'>\n",
            "5 <class 'int'>\n",
            "(1, 2, 3, 4, 5) <class 'tuple'>\n"
          ]
        }
      ]
    },
    {
      "cell_type": "markdown",
      "source": [
        "**Unpacking a multi-valued function **\n",
        "\n",
        "---\n",
        "A function returning multiple values returns them in a form of tuple\n",
        "\n",
        "\n",
        "\n"
      ],
      "metadata": {
        "id": "90oQ5Nn0xmIo"
      }
    },
    {
      "cell_type": "code",
      "source": [],
      "metadata": {
        "colab": {
          "base_uri": "https://localhost:8080/"
        },
        "id": "ONh47uomv0mw",
        "outputId": "6f476f1a-1e33-4ff3-8c62-24c92e9182b0"
      },
      "execution_count": 7,
      "outputs": [
        {
          "output_type": "stream",
          "name": "stdout",
          "text": [
            "Requirement already satisfied: rot13 in /usr/local/lib/python3.10/dist-packages (1.0)\n"
          ]
        }
      ]
    }
  ]
}